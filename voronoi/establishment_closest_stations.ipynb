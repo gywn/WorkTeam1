{
 "cells": [
  {
   "cell_type": "code",
   "execution_count": 162,
   "metadata": {},
   "outputs": [],
   "source": [
    "import numpy as np\n",
    "import pandas as pd\n",
    "import os.path\n",
    "\n",
    "DSET_ROOT = \"/Users/ever/Documents/HackathononKIBots/WorkTeam1/datasets/\"\n",
    "\n",
    "def load_est_data(est_data_path = DSET_ROOT):\n",
    "    json_path=os.path.join(est_data_path,\"all_nodes.json\")\n",
    "    return pd.read_json(json_path)\n",
    "def load_station_data(est_data_path = DSET_ROOT):\n",
    "    json_path=os.path.join(est_data_path,\"haltestellen.json\")\n",
    "    return pd.read_json(json_path)\n",
    "establishments = load_est_data()\n",
    "stations = load_station_data() \n",
    "stations = stations.transpose()\n",
    "stations = stations.reset_index(drop=True)\n",
    "\n",
    "#DSET_ROOT = \"https://raw.githubusercontent.com/gywn/WorkTeam1/master/datasets/all_nodes.json\"\n",
    "#establishments = pd.read_json(DSET_ROOT)\n",
    "\n"
   ]
  },
  {
   "cell_type": "code",
   "execution_count": 163,
   "metadata": {},
   "outputs": [],
   "source": [
    "establishments['subtype'] = \"\"\n",
    "tags = establishments.tags\n",
    "types = establishments.type\n",
    "type_df=establishments['type'].str[0:].str.split(':', expand=True)"
   ]
  },
  {
   "cell_type": "code",
   "execution_count": 164,
   "metadata": {},
   "outputs": [],
   "source": [
    "type_df = type_df.drop([2],axis=1)\n",
    "type_df = type_df.rename(columns={0:'type',1:'subtype'})\n",
    "#unique_subtypes = type_df.subtype.unique() \n",
    "#unique_types = type_df.type.unique() \n",
    "establishments.type = type_df.type \n",
    "establishments.subtype = type_df.subtype \n"
   ]
  },
  {
   "cell_type": "code",
   "execution_count": 168,
   "metadata": {},
   "outputs": [],
   "source": [
    "establishments[0:3]\n",
    "amenities_subtypes = establishments[establishments.type == 'amenity'].subtype.unique()\n",
    "amenities_subtypes = pd.DataFrame(amenities_subtypes)\n",
    "amenities_subtypes.to_csv(\"amenity_subtypes.csv\")\n",
    "\n",
    "tourism_subtypes = establishments[establishments.type == 'tourism'].subtype.unique()\n",
    "tourism_subtypes = pd.DataFrame(tourism_subtypes)\n",
    "tourism_subtypes.to_csv(\"tourism_subtypes.csv\")\n",
    "\n",
    "leisure_subtypes = establishments[establishments.type == 'leisure'].subtype.unique()\n",
    "leisure_subtypes = pd.DataFrame(leisure_subtypes)\n",
    "leisure_subtypes.to_csv(\"leisure_subtypes.csv\")\n",
    "\n",
    "shop_subtypes = establishments[establishments.type == 'shop'].subtype.unique()\n",
    "shop_subtypes = pd.DataFrame(shop_subtypes)\n",
    "shop_subtypes.to_csv(\"shop_subtypes.csv\")"
   ]
  },
  {
   "cell_type": "code",
   "execution_count": 93,
   "metadata": {},
   "outputs": [],
   "source": [
    "types = establishments.type.unique()\n",
    "amenities_subtypes = establishments[establishments.type == 'amenity'].subtype.unique()\n",
    "subtypes = pd.DataFrame(subtypes)\n",
    "subtypes.to_csv(\"unique_subtypes.csv\")"
   ]
  },
  {
   "cell_type": "code",
   "execution_count": 70,
   "metadata": {},
   "outputs": [],
   "source": [
    "def get_station_establishments(establishments,station_lat,station_lon,square_size = 0.0005):\n",
    "    lat_low = station_lat - square_size\n",
    "    lat_high = station_lat + square_size\n",
    "    lon_low = station_lon - square_size\n",
    "    lon_high = station_lon + square_size\n",
    "\n",
    "    near_establishments = establishments[(establishments.lat<lat_high) &\n",
    "                                         (establishments.lat>lat_low) &\n",
    "                                         (establishments.lon<lon_high) &\n",
    "                                         (establishments.lat>lon_low)]\n",
    "    return near_establishments\n",
    "\n",
    "station_stablishments=get_station_establishments(establishments,49.544802,8.670092,square_size=0.0002)\n"
   ]
  },
  {
   "cell_type": "code",
   "execution_count": 173,
   "metadata": {},
   "outputs": [],
   "source": [
    "stations[\"lat\"]=\"\"\n",
    "stations[\"lon\"]=\"\"\n"
   ]
  },
  {
   "cell_type": "code",
   "execution_count": 180,
   "metadata": {},
   "outputs": [],
   "source": [
    "for ii in range(stations.shape[0]):\n",
    "    stops1 = stations.stops[ii]\n",
    "    stops1 = stops1[0]\n",
    "    lat = stops1['lat']\n",
    "    lon = stops1['lon']\n",
    "    stations.lat[ii]=lat\n",
    "    stations.lon[ii]=lon"
   ]
  },
  {
   "cell_type": "code",
   "execution_count": 191,
   "metadata": {},
   "outputs": [],
   "source": [
    "stations_lat = stations['lat']\n",
    "stations_lat.to_csv('stations_lat.csv')\n",
    "stations_lat = stations_lat.values\n",
    "\n",
    "establishments_lat = establishments['lat']\n",
    "establishments_lat.to_csv('establishments_lat.csv')\n",
    "establishments_lat = establishments_lat.values\n",
    "\n",
    "stations_lon = stations['lon']\n",
    "stations_lon.to_csv('stations_lon.csv')\n",
    "stations_lon = stations_lon.values\n",
    "\n",
    "establishments_lon = establishments['lon']\n",
    "establishments_lon.to_csv('establishments_lon.csv')\n",
    "establishments_lon = establishments_lon.values"
   ]
  },
  {
   "cell_type": "code",
   "execution_count": 236,
   "metadata": {},
   "outputs": [],
   "source": [
    "lat_dist = np.subtract.outer(establishments_lat, stations_lat)\n",
    "lon_dist = np.subtract.outer(establishments_lon, stations_lon)"
   ]
  },
  {
   "cell_type": "code",
   "execution_count": 240,
   "metadata": {},
   "outputs": [
    {
     "name": "stdout",
     "output_type": "stream",
     "text": [
      "(39512, 931)\n",
      "(39512,)\n"
     ]
    }
   ],
   "source": [
    "#dist_matrix = np.sqrt([np.abs(lon_dist) + np.abs(lat_dist)])\n",
    "dist_matrix = np.power([lon_dist**2 + lat_dist**2], 0.5 )\n",
    "dist_matrix = np.squeeze(dist_matrix)\n",
    "print(dist_matrix.shape)\n",
    "\n",
    "closest_station = np.argmin( dist_matrix , 1)\n",
    "print(closest_station.shape)"
   ]
  },
  {
   "cell_type": "code",
   "execution_count": 244,
   "metadata": {},
   "outputs": [],
   "source": [
    "np.savetxt(\"establishments_closest_station.csv\", closest_station, delimiter=\",\")"
   ]
  },
  {
   "cell_type": "code",
   "execution_count": null,
   "metadata": {
    "collapsed": true
   },
   "outputs": [],
   "source": []
  }
 ],
 "metadata": {
  "kernelspec": {
   "display_name": "Python 3",
   "language": "python",
   "name": "python3"
  },
  "language_info": {
   "codemirror_mode": {
    "name": "ipython",
    "version": 3
   },
   "file_extension": ".py",
   "mimetype": "text/x-python",
   "name": "python",
   "nbconvert_exporter": "python",
   "pygments_lexer": "ipython3",
   "version": "3.6.3"
  }
 },
 "nbformat": 4,
 "nbformat_minor": 2
}
